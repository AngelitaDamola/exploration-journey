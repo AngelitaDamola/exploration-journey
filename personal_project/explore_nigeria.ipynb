{
 "cells": [
  {
   "cell_type": "code",
   "execution_count": 1,
   "metadata": {},
   "outputs": [],
   "source": [
    "# For Data Manipulation\n",
    "import pandas as pd\n",
    "# numpy gives us access to some useful data structures\n",
    "import numpy as np\n",
    "# Seaborn is another visualisation library\n",
    "import seaborn as sns\n",
    "# matplotlib allows us to do basic plots\n",
    "%matplotlib inline\n",
    "import matplotlib.pyplot as plt\n",
    "\n",
    "# For Hypothesis testing\n",
    "from scipy import stats\n",
    "# Ignore warnings (just for neatness)\n",
    "from warnings import filterwarnings\n",
    "filterwarnings(\"ignore\")"
   ]
  },
  {
   "cell_type": "code",
   "execution_count": 2,
   "metadata": {},
   "outputs": [],
   "source": [
    "import pandas_datareader as pdr"
   ]
  },
  {
   "cell_type": "code",
   "execution_count": 3,
   "metadata": {},
   "outputs": [],
   "source": [
    "from pandas_datareader import wb"
   ]
  },
  {
   "cell_type": "markdown",
   "metadata": {},
   "source": [
    "### All about Nigeria\n",
    "#### I want to see Nigeria's GDP vs what we're producing, population, employment rates, people leaving the country\n",
    "#### I want to see Nigeria's GDP share of total GDP\n",
    "#### Can we see where Nigeria's population is going?"
   ]
  },
  {
   "cell_type": "code",
   "execution_count": 4,
   "metadata": {},
   "outputs": [
    {
     "data": {
      "text/html": [
       "<div>\n",
       "<style scoped>\n",
       "    .dataframe tbody tr th:only-of-type {\n",
       "        vertical-align: middle;\n",
       "    }\n",
       "\n",
       "    .dataframe tbody tr th {\n",
       "        vertical-align: top;\n",
       "    }\n",
       "\n",
       "    .dataframe thead th {\n",
       "        text-align: right;\n",
       "    }\n",
       "</style>\n",
       "<table border=\"1\" class=\"dataframe\">\n",
       "  <thead>\n",
       "    <tr style=\"text-align: right;\">\n",
       "      <th></th>\n",
       "      <th></th>\n",
       "      <th>gdp</th>\n",
       "      <th>population</th>\n",
       "      <th>cpi</th>\n",
       "      <th>export_vol_index</th>\n",
       "      <th>manufacturing</th>\n",
       "      <th>unemployment</th>\n",
       "      <th>net_migration</th>\n",
       "    </tr>\n",
       "    <tr>\n",
       "      <th>country</th>\n",
       "      <th>year</th>\n",
       "      <th></th>\n",
       "      <th></th>\n",
       "      <th></th>\n",
       "      <th></th>\n",
       "      <th></th>\n",
       "      <th></th>\n",
       "      <th></th>\n",
       "    </tr>\n",
       "  </thead>\n",
       "  <tbody>\n",
       "    <tr>\n",
       "      <th rowspan=\"5\" valign=\"top\">Nigeria</th>\n",
       "      <th>2021</th>\n",
       "      <td>4.408390e+11</td>\n",
       "      <td>213401323</td>\n",
       "      <td>354.296242</td>\n",
       "      <td>60.543389</td>\n",
       "      <td>4.588934e+10</td>\n",
       "      <td>5.393</td>\n",
       "      <td>-76364</td>\n",
       "    </tr>\n",
       "    <tr>\n",
       "      <th>2020</th>\n",
       "      <td>4.321989e+11</td>\n",
       "      <td>208327405</td>\n",
       "      <td>302.939394</td>\n",
       "      <td>86.075569</td>\n",
       "      <td>4.440258e+10</td>\n",
       "      <td>5.712</td>\n",
       "      <td>-4824</td>\n",
       "    </tr>\n",
       "    <tr>\n",
       "      <th>2019</th>\n",
       "      <td>4.745175e+11</td>\n",
       "      <td>203304492</td>\n",
       "      <td>267.505547</td>\n",
       "      <td>108.113169</td>\n",
       "      <td>4.566050e+10</td>\n",
       "      <td>5.206</td>\n",
       "      <td>-103989</td>\n",
       "    </tr>\n",
       "    <tr>\n",
       "      <th>2018</th>\n",
       "      <td>4.217393e+11</td>\n",
       "      <td>198387623</td>\n",
       "      <td>240.138365</td>\n",
       "      <td>92.405139</td>\n",
       "      <td>4.531298e+10</td>\n",
       "      <td>5.065</td>\n",
       "      <td>-81384</td>\n",
       "    </tr>\n",
       "    <tr>\n",
       "      <th>2017</th>\n",
       "      <td>3.757457e+11</td>\n",
       "      <td>193495907</td>\n",
       "      <td>214.227340</td>\n",
       "      <td>86.868245</td>\n",
       "      <td>4.438356e+10</td>\n",
       "      <td>4.826</td>\n",
       "      <td>15016</td>\n",
       "    </tr>\n",
       "  </tbody>\n",
       "</table>\n",
       "</div>"
      ],
      "text/plain": [
       "                       gdp  population         cpi  export_vol_index  \\\n",
       "country year                                                           \n",
       "Nigeria 2021  4.408390e+11   213401323  354.296242         60.543389   \n",
       "        2020  4.321989e+11   208327405  302.939394         86.075569   \n",
       "        2019  4.745175e+11   203304492  267.505547        108.113169   \n",
       "        2018  4.217393e+11   198387623  240.138365         92.405139   \n",
       "        2017  3.757457e+11   193495907  214.227340         86.868245   \n",
       "\n",
       "              manufacturing  unemployment  net_migration  \n",
       "country year                                              \n",
       "Nigeria 2021   4.588934e+10         5.393         -76364  \n",
       "        2020   4.440258e+10         5.712          -4824  \n",
       "        2019   4.566050e+10         5.206        -103989  \n",
       "        2018   4.531298e+10         5.065         -81384  \n",
       "        2017   4.438356e+10         4.826          15016  "
      ]
     },
     "execution_count": 4,
     "metadata": {},
     "output_type": "execute_result"
    }
   ],
   "source": [
    "ind = ['NY.GDP.MKTP.CD', 'SP.POP.TOTL','FP.CPI.TOTL','TX.QTY.MRCH.XD.WD','NV.IND.MANF.KD','SL.UEM.TOTL.ZS','SM.POP.NETM']\n",
    "country = ['NGA']\n",
    "dat = wb.download(indicator=ind, country=country, start=2010, end=2024).dropna()\n",
    "dat.columns = ['gdp', 'population','cpi', 'export_vol_index', 'manufacturing','unemployment','net_migration']\n",
    "dat.head(5)"
   ]
  },
  {
   "cell_type": "code",
   "execution_count": null,
   "metadata": {},
   "outputs": [],
   "source": []
  }
 ],
 "metadata": {
  "kernelspec": {
   "display_name": ".venv",
   "language": "python",
   "name": "python3"
  },
  "language_info": {
   "codemirror_mode": {
    "name": "ipython",
    "version": 3
   },
   "file_extension": ".py",
   "mimetype": "text/x-python",
   "name": "python",
   "nbconvert_exporter": "python",
   "pygments_lexer": "ipython3",
   "version": "3.9.5"
  }
 },
 "nbformat": 4,
 "nbformat_minor": 2
}
